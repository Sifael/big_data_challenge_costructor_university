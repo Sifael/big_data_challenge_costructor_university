{
 "cells": [
  {
   "cell_type": "code",
   "execution_count": 1,
   "metadata": {},
   "outputs": [],
   "source": [
    "import json"
   ]
  },
  {
   "cell_type": "code",
   "execution_count": 24,
   "metadata": {},
   "outputs": [],
   "source": [
    "with open('sample_appoint.json', 'r') as file:\n",
    "    entries =  json.load(file)\n",
    "    for appointment in entries['result']:\n",
    "        date = appointment['date']\n",
    "\n",
    "        for details in appointment['appointments']:\n",
    "            id_ = details['id']\n",
    "            patient = details['patientName']\n",
    "            address = details['address']\n",
    "            insurance = details['insurance']\n",
    "            insurance_status = details['status']\n",
    "            visit_reason = details['visit_reason']\n",
    "            start_time = details['startTime']\n",
    "            end_time = details['endTime']\n",
    "            doctor = details['general_practitioner']\n",
    "\n",
    "    details = ','.join([date, id_, patient, address, insurance, insurance_status, visit_reason, start_time, end_time, doctor])\n",
    "\n",
    "    with open('appoints.txt', 'w+') as file:\n",
    "        file.write(details)"
   ]
  },
  {
   "cell_type": "code",
   "execution_count": null,
   "metadata": {},
   "outputs": [],
   "source": []
  },
  {
   "cell_type": "code",
   "execution_count": null,
   "metadata": {},
   "outputs": [],
   "source": []
  }
 ],
 "metadata": {
  "kernelspec": {
   "display_name": "data_challenge",
   "language": "python",
   "name": "python3"
  },
  "language_info": {
   "codemirror_mode": {
    "name": "ipython",
    "version": 3
   },
   "file_extension": ".py",
   "mimetype": "text/x-python",
   "name": "python",
   "nbconvert_exporter": "python",
   "pygments_lexer": "ipython3",
   "version": "3.8.18"
  }
 },
 "nbformat": 4,
 "nbformat_minor": 2
}
